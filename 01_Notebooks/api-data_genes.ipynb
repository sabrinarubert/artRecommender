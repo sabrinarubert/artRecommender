{
 "cells": [
  {
   "cell_type": "code",
   "execution_count": 97,
   "metadata": {},
   "outputs": [
    {
     "name": "stdout",
     "output_type": "stream",
     "text": [
      "1033\n"
     ]
    }
   ],
   "source": [
    "import json\n",
    "import requests\n",
    "import pandas as pd\n",
    "import numpy as np\n",
    "import sys\n",
    "import re\n",
    "import time\n",
    "\n",
    "from sqlalchemy import create_engine\n",
    "import pymysql\n",
    "\n",
    "url = 'https://api.artsy.net/api/tokens/xapp_token'\n",
    "myobj = {'client_id': '3369c027684c8cf068f9', 'client_secret': 'f9d37e6312fe53c17535d2624bbbcd50', 'total_count':'1'}\n",
    "\n",
    "resp = requests.post(url, data = myobj)\n",
    "data = resp.json() # Check the JSON Response Content documentation below\n",
    "token = data[\"token\"]"
   ]
  },
  {
   "cell_type": "code",
   "execution_count": 98,
   "metadata": {},
   "outputs": [
    {
     "data": {
      "text/plain": [
       "<sqlalchemy.engine.result.ResultProxy at 0x1173d0e10>"
      ]
     },
     "execution_count": 98,
     "metadata": {},
     "output_type": "execute_result"
    }
   ],
   "source": []
  },
  {
   "cell_type": "code",
   "execution_count": 99,
   "metadata": {},
   "outputs": [
    {
     "name": "stdout",
     "output_type": "stream",
     "text": [
      "https://api.artsy.net/api/genes?cursor=Contemporary+Grotesque%3A4dda6a48fa614f0001002943&size=250\n",
      "loaded 250 / 250 artist with offset 0 from 1033\n",
      "https://api.artsy.net/api/genes?cursor=Improbable+Physics%3A53763281cd530e163300008f&size=250\n",
      "loaded 250 / 250 artist with offset 250 from 1033\n",
      "https://api.artsy.net/api/genes?cursor=Post-Impressionism%3A4d90d192dcdd5f44a5000065&size=250\n",
      "loaded 250 / 250 artist with offset 500 from 1033\n",
      "https://api.artsy.net/api/genes?cursor=Viscous+Forms%3A500808453c585a0002000ae4&size=250\n",
      "loaded 250 / 250 artist with offset 750 from 1033\n",
      "https://api.artsy.net/api/genes?cursor=Zoomorphism%3A5523030c7261692d5f093800&size=250\n",
      "loaded 250 / 33 artist with offset 1000 from 1033\n"
     ]
    }
   ],
   "source": [
    "i = 0\n",
    "cursor = \"\"\n",
    "nextUrl = \"\"\n",
    "\n",
    "while i < total_count:\n",
    "\n",
    "    if (nextUrl == \"\"):\n",
    "        response_artist = requests.get(url = \"https://api.artsy.net/api/genes\", headers={'X-XAPP-Token': token}, params={\"size\": genesPerRequest})\n",
    "    else:\n",
    "        response_artist = requests.get(url =nextUrl, headers={'X-XAPP-Token': token})\n",
    "    \n",
    "    \n",
    "    data = response_artist.json()\n",
    "    \n",
    "    try:\n",
    "        \n",
    "        nextUrl = data[\"_links\"][\"next\"][\"href\"]\n",
    "        print(nextUrl)\n",
    "        \n",
    "        arrayOfGenes = data[\"_embedded\"][\"genes\"]\n",
    "        print(\"loaded \"+str(artistPerRequest)+\" / \"+ str(len(arrayOfGenes)) +\" artist with offset \" + str(i)+ \" from \"+ str(total_count))    \n",
    "        genesList = pd.DataFrame(columns=['id', 'name', 'display_name', 'description', 'image', 'artworks', 'artists'])\n",
    "\n",
    "        for gene in arrayOfGenes:\n",
    "            \n",
    "            geneData = {\"id\": gene[\"id\"], \n",
    "                                   \"name\": gene[\"name\"],\n",
    "                                   \"display_name\": gene[\"display_name\"],\n",
    "                                   \"description\": gene[\"description\"],\n",
    "                                   \"image\": gene[\"_links\"][\"image\"][\"href\"].replace('{image_version}', \"square500\"),\n",
    "                                   \"artworks\": gene[\"_links\"][\"artworks\"][\"href\"],\n",
    "                                   \"artists\": gene[\"_links\"][\"artists\"][\"href\"]}\n",
    "            \n",
    "            genesList = genesList.append(geneData, ignore_index=True)\n",
    "    \n",
    "        genesList = genesList.replace(r'^\\s*$', np.nan, regex=True)\n",
    "        genesList = genesList.replace('\"', np.nan, regex=True)\n",
    "        genesList = genesList.replace('nan', np.nan)\n",
    "        genesList.to_sql('genes', con=sqlEngine, if_exists= \"append\")\n",
    "        \n",
    "        i = i + len(arrayOfGenes)\n",
    "        \n",
    "    except KeyError as e: \n",
    "        print(data)\n",
    "        \n",
    "        time.sleep(1)"
   ]
  },
  {
   "cell_type": "code",
   "execution_count": null,
   "metadata": {},
   "outputs": [],
   "source": []
  }
 ],
 "metadata": {
  "kernelspec": {
   "display_name": "Python 3",
   "language": "python",
   "name": "python3"
  },
  "language_info": {
   "codemirror_mode": {
    "name": "ipython",
    "version": 3
   },
   "file_extension": ".py",
   "mimetype": "text/x-python",
   "name": "python",
   "nbconvert_exporter": "python",
   "pygments_lexer": "ipython3",
   "version": "3.7.7"
  }
 },
 "nbformat": 4,
 "nbformat_minor": 4
}
